{
 "cells": [
  {
   "cell_type": "code",
   "execution_count": 179,
   "metadata": {},
   "outputs": [],
   "source": [
    "import numpy as np\n",
    "import matplotlib.pyplot as plt"
   ]
  },
  {
   "cell_type": "code",
   "execution_count": 180,
   "metadata": {},
   "outputs": [],
   "source": [
    "e1=0.4\n",
    "e2=0.02\n",
    "e3=0.001\n",
    "e4=0.3\n",
    "\n",
    "f=lambda t,x,y: e1*x-e2*x*y;\n",
    "g=lambda t,x,y: e3*x*y-e4*y;"
   ]
  },
  {
   "cell_type": "code",
   "execution_count": 181,
   "metadata": {},
   "outputs": [],
   "source": [
    "def rungeKuttaSis (f,g,x0,y0,t0,tf,h):\n",
    "    #creo matriz t\n",
    "    t=np.arange(t0,tf+h,h)\n",
    "    #calculo dimensión vectorial\n",
    "    n=len(t)\n",
    "    \n",
    "    #creo matriz x e y\n",
    "    x= np.zeros (n); y = np.zeros(n);\n",
    "    j=len(x)\n",
    "    h=len(y)\n",
    "    print(n,j,h)\n",
    "    #redefino valores iniciales de x e y en la matriz\n",
    "    x[0]=x0; y[0]=y0;\n",
    "    #ciclo for para RK4\n",
    "    for i in range(n-1):\n",
    "        \n",
    "        k1=h*f(t[i],x[i],y[i])\n",
    "        l1=h*g(t[i],x[i],y[i])\n",
    "        \n",
    "        k2=h*f(t[i]+h//2,x[i]+k1/2,y[i]+l1/2)\n",
    "        l2=h*g(t[i]+h//2,x[i]+k1/2,y[i]+l1/2)\n",
    "        \n",
    "        k3=h*f(t[i]+h//2,x[i]+k2/2,y[i]+l2/2)\n",
    "        l3=h*g(t[i]+h//2,x[i]+k2/2,y[i]+l2/2)\n",
    "        \n",
    "        k4=h*f(t[i]+h,x[i]+k3,y[i]+l3)\n",
    "        l4=h*g(t[i]+h,x[i]+k3,y[i]+l3)\n",
    "        \n",
    "        x[i+1]= x[i]+(1/6)*(k1+2*k2+2*k3+k4)\n",
    "        y[i+1]= y[i]+(1/6)*(l1+2*l2+2*l3+l4)\n",
    "        plt.plot(t,x,t,y)       \n",
    "\n",
    "plt.show()"
   ]
  },
  {
   "cell_type": "code",
   "execution_count": 182,
   "metadata": {},
   "outputs": [
    {
     "name": "stdout",
     "output_type": "stream",
     "text": [
      "51 51 51\n"
     ]
    },
    {
     "name": "stderr",
     "output_type": "stream",
     "text": [
      "C:\\Users\\Erick\\AppData\\Local\\Temp\\ipykernel_13288\\2211446683.py:6: RuntimeWarning: overflow encountered in double_scalars\n",
      "  f=lambda t,x,y: e1*x-e2*x*y;\n",
      "C:\\Users\\Erick\\AppData\\Local\\Temp\\ipykernel_13288\\2211446683.py:7: RuntimeWarning: overflow encountered in double_scalars\n",
      "  g=lambda t,x,y: e3*x*y-e4*y;\n",
      "C:\\Users\\Erick\\AppData\\Local\\Temp\\ipykernel_13288\\2211446683.py:7: RuntimeWarning: invalid value encountered in double_scalars\n",
      "  g=lambda t,x,y: e3*x*y-e4*y;\n"
     ]
    },
    {
     "data": {
      "image/png": "[encoded data removed]",
      "text/plain": [
       "<Figure size 432x288 with 1 Axes>"
      ]
     },
     "metadata": {
      "needs_background": "light"
     },
     "output_type": "display_data"
    }
   ],
   "source": [
    "rungeKuttaSis (f,g,30,3,0,50,1)"
   ]
  }
 ],
 "metadata": {
  "kernelspec": {
   "display_name": "Python 3.10.5 64-bit",
   "language": "python",
   "name": "python3"
  },
  "language_info": {
   "codemirror_mode": {
    "name": "ipython",
    "version": 3
   },
   "file_extension": ".py",
   "mimetype": "text/x-python",
   "name": "python",
   "nbconvert_exporter": "python",
   "pygments_lexer": "ipython3",
   "version": "3.10.5"
  },
  "orig_nbformat": 4,
  "vscode": {
   "interpreter": {
    "hash": "6de1e91cf1244bfb3dd12093cd4d082eb720781624c3050692ebb29fab67d41a"
   }
  }
 },
 "nbformat": 4,
 "nbformat_minor": 2
}
